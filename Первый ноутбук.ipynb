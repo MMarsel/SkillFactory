{
 "cells": [
  {
   "cell_type": "markdown",
   "metadata": {},
   "source": [
    "# это заголовок первого уровня\n",
    "## это заголовок второго уровня\n",
    "### это заголовок третьего уровня\n",
    "Список:\n",
    "- Первый элемент списка\n",
    "- Второй элемент списка\n"
   ]
  },
  {
   "cell_type": "code",
   "execution_count": 1,
   "metadata": {},
   "outputs": [
    {
     "data": {
      "text/plain": [
       "20.0"
      ]
     },
     "execution_count": 1,
     "metadata": {},
     "output_type": "execute_result"
    }
   ],
   "source": [
    "x = (67+33)/25*(25-20)\n",
    "x\n"
   ]
  },
  {
   "cell_type": "code",
   "execution_count": 8,
   "metadata": {},
   "outputs": [
    {
     "data": {
      "text/plain": [
       "151.625"
      ]
     },
     "execution_count": 8,
     "metadata": {},
     "output_type": "execute_result"
    }
   ],
   "source": [
    "x=(4+5*60-17+(65/4))**1/2\n",
    "round(x,3)"
   ]
  },
  {
   "cell_type": "code",
   "execution_count": 7,
   "metadata": {},
   "outputs": [
    {
     "data": {
      "text/plain": [
       "1926.246"
      ]
     },
     "execution_count": 7,
     "metadata": {},
     "output_type": "execute_result"
    }
   ],
   "source": [
    "x=6.996+45*(13/2)**2+2*18**1/2\n",
    "round(x, 3)"
   ]
  },
  {
   "cell_type": "code",
   "execution_count": 6,
   "metadata": {},
   "outputs": [
    {
     "data": {
      "text/plain": [
       "-0.391"
      ]
     },
     "execution_count": 6,
     "metadata": {},
     "output_type": "execute_result"
    }
   ],
   "source": [
    "x=(1267-20*(5**3/2)**2)/(8**5*36**0.5)\n",
    "round(x,3)"
   ]
  },
  {
   "cell_type": "code",
   "execution_count": 9,
   "metadata": {},
   "outputs": [
    {
     "data": {
      "text/plain": [
       "-4251528.0"
      ]
     },
     "execution_count": 9,
     "metadata": {},
     "output_type": "execute_result"
    }
   ],
   "source": [
    "(((9**0.5)**3)**2)**2/((-2)**(-3))"
   ]
  },
  {
   "cell_type": "code",
   "execution_count": 2,
   "metadata": {
    "scrolled": true
   },
   "outputs": [
    {
     "data": {
      "text/plain": [
       "'hey!'"
      ]
     },
     "execution_count": 2,
     "metadata": {},
     "output_type": "execute_result"
    }
   ],
   "source": [
    "\"hey\"+\"!\""
   ]
  },
  {
   "cell_type": "code",
   "execution_count": 3,
   "metadata": {},
   "outputs": [
    {
     "data": {
      "text/plain": [
       "float"
      ]
     },
     "execution_count": 3,
     "metadata": {},
     "output_type": "execute_result"
    }
   ],
   "source": [
    "type(2+3.4)"
   ]
  },
  {
   "cell_type": "code",
   "execution_count": 4,
   "metadata": {},
   "outputs": [
    {
     "data": {
      "text/plain": [
       "float"
      ]
     },
     "execution_count": 4,
     "metadata": {},
     "output_type": "execute_result"
    }
   ],
   "source": [
    "type(4**(1/2))"
   ]
  },
  {
   "cell_type": "code",
   "execution_count": 1,
   "metadata": {},
   "outputs": [
    {
     "data": {
      "text/plain": [
       "'422'"
      ]
     },
     "execution_count": 1,
     "metadata": {},
     "output_type": "execute_result"
    }
   ],
   "source": [
    "\"42\"+\"2\""
   ]
  },
  {
   "cell_type": "code",
   "execution_count": 2,
   "metadata": {},
   "outputs": [
    {
     "name": "stdout",
     "output_type": "stream",
     "text": [
      "Алексей\n",
      "Сегодня Вас зовутАлексей\n"
     ]
    }
   ],
   "source": [
    "name = input()\n",
    "print(\"Сегодня Вас зовут \"+name)"
   ]
  },
  {
   "cell_type": "code",
   "execution_count": 4,
   "metadata": {},
   "outputs": [
    {
     "name": "stdout",
     "output_type": "stream",
     "text": [
      "Вы ввели число, которое при умножении на 3 даёт 69\n"
     ]
    }
   ],
   "source": [
    "a = 23\n",
    "b=a*3\n",
    "print(\"Вы ввели число, которое при умножении на 3 даёт\", b)"
   ]
  },
  {
   "cell_type": "code",
   "execution_count": 8,
   "metadata": {},
   "outputs": [
    {
     "name": "stdout",
     "output_type": "stream",
     "text": [
      "Это слово длинное.\n"
     ]
    }
   ],
   "source": [
    "word = 'ОченьДлинноеСлово'\n",
    "if len(word)>7:\n",
    "    print(\"Это слово длинное.\")\n",
    "else:\n",
    "     print(\"Это слово короткое.\")"
   ]
  },
  {
   "cell_type": "code",
   "execution_count": 9,
   "metadata": {},
   "outputs": [
    {
     "name": "stdout",
     "output_type": "stream",
     "text": [
      "Выбранная буква есть в введённом слове\n"
     ]
    }
   ],
   "source": [
    "word = 'ОченьДлинноеСлово'\n",
    "letter = 'и'\n",
    "if (letter in  word) == True:\n",
    "    print(\"Выбранная буква есть в введённом слове\")\n",
    "else:\n",
    "    print(\"Выбранной буквы нет в введённом слове\")"
   ]
  },
  {
   "cell_type": "code",
   "execution_count": 20,
   "metadata": {},
   "outputs": [
    {
     "name": "stdout",
     "output_type": "stream",
     "text": [
      "7\n",
      "воскресенье\n"
     ]
    }
   ],
   "source": [
    "\"\"\"Напишите программу, которая принимает на вход от пользователя число от 1 до 7 (переменная number) \n",
    "и выводит на экран соответствующий день недели (на русском языке с маленькой буквы). \n",
    "Например, при вводе единицы появляется надпись \"понедельник\". Для проверки используйте number = 5\n",
    "\n",
    "\"\"\"\n",
    "number = int(input())\n",
    "#number=5\n",
    "if number==1:\n",
    "    print(\"понедельник\")\n",
    "elif number==2:\n",
    "    print(\"вторник\")\n",
    "elif number == 3:\n",
    "    print(\"среда\")\n",
    "elif number==4:\n",
    "    print(\"четверг\")\n",
    "elif number == 5:\n",
    "    print(\"пятница\")\n",
    "elif number == 6:\n",
    "    print(\"суббота\")\n",
    "else:\n",
    "    print (\"воскресенье\")"
   ]
  },
  {
   "cell_type": "code",
   "execution_count": 21,
   "metadata": {},
   "outputs": [
    {
     "data": {
      "text/plain": [
       "'Индекс массы тела (ИМТ) является простым и одновременно важным индикатором состояния здоровья человека. Он рассчитывается как отношение веса человека (в килограммах) к квадрату его роста (в метрах). Если ИМТ находится в пределах от 18,5 до 24,99 включительно, соответствие между массой тела и ростом человека считают нормальным. Значения ниже этого диапазона сигнализируют о недостаточной массе тела, выше — об избыточной массе тела. Помогите врачам автоматизировать принятие решений на основе ИМТ. Напишите программу, в которой человек может указать свой вес (weight) и рост (height), а затем прочитать заключение: \"Недостаточная масса тела\", \"Норма\", \"Избыточная масса тела\". Для проверки используйте weight = 80 и height=1.8\"\"'"
      ]
     },
     "execution_count": 21,
     "metadata": {},
     "output_type": "execute_result"
    }
   ],
   "source": [
    "\"\"'Индекс массы тела (ИМТ) является простым и одновременно важным индикатором состояния здоровья человека. Он рассчитывается как отношение веса человека (в килограммах) к квадрату его роста (в метрах). Если ИМТ находится в пределах от 18,5 до 24,99 включительно, соответствие между массой тела и ростом человека считают нормальным. Значения ниже этого диапазона сигнализируют о недостаточной массе тела, выше — об избыточной массе тела. Помогите врачам автоматизировать принятие решений на основе ИМТ. Напишите программу, в которой человек может указать свой вес (weight) и рост (height), а затем прочитать заключение: \"Недостаточная масса тела\", \"Норма\", \"Избыточная масса тела\". Для проверки используйте weight = 80 и height=1.8\"\"'"
   ]
  },
  {
   "cell_type": "code",
   "execution_count": 22,
   "metadata": {},
   "outputs": [
    {
     "name": "stdout",
     "output_type": "stream",
     "text": [
      "Норма\n"
     ]
    }
   ],
   "source": [
    "#weight = float(input())\n",
    "weight = 80 \n",
    "height=1.8\n",
    "IMT = weight/(height**2)\n",
    "if IMT > 18.5 and IMT<=24.99:\n",
    "    print (\"Норма\")\n",
    "elif IMT >24.99 :\n",
    "    print(\"Избыточная масса тела\")\n",
    "else:\n",
    "    print(\"Недостаточная масса тела\")"
   ]
  },
  {
   "cell_type": "code",
   "execution_count": 23,
   "metadata": {},
   "outputs": [
    {
     "data": {
      "text/plain": [
       "\"При выставлении оценок в ведомость преподавателю необходимо не только указать полученную студентом оценку, но и расшифровать её. В университете принята следующая шкала оценок: меньше 4 — 'неудовлетворительно', 4-5 —'удовлетворительно', 6-7 — 'хорошо', 8 и выше — 'отлично'. Напишите программу, которая принимает на вход полученную оценку (mark) и расшифровывает её таким образом: вводимая оценка — число от 1 до 10. Для проверки используйте mark = 7\\n\""
      ]
     },
     "execution_count": 23,
     "metadata": {},
     "output_type": "execute_result"
    }
   ],
   "source": [
    "\"\"\"При выставлении оценок в ведомость преподавателю необходимо не только указать полученную студентом оценку, но и расшифровать её. В университете принята следующая шкала оценок: меньше 4 — 'неудовлетворительно', 4-5 —'удовлетворительно', 6-7 — 'хорошо', 8 и выше — 'отлично'. Напишите программу, которая принимает на вход полученную оценку (mark) и расшифровывает её таким образом: вводимая оценка — число от 1 до 10. Для проверки используйте mark = 7\n",
    "\"\"\""
   ]
  },
  {
   "cell_type": "code",
   "execution_count": 24,
   "metadata": {},
   "outputs": [
    {
     "name": "stdout",
     "output_type": "stream",
     "text": [
      "хорошо\n"
     ]
    }
   ],
   "source": [
    "mark = 7\n",
    "if mark<4:\n",
    "    print(\"неудовлетворительно\")\n",
    "elif mark < 6:\n",
    "    print('удовлетворительно')\n",
    "elif mark<8:\n",
    "    print('хорошо')\n",
    "else:\n",
    "    print ('отлично')"
   ]
  },
  {
   "cell_type": "code",
   "execution_count": 25,
   "metadata": {},
   "outputs": [
    {
     "data": {
      "text/plain": [
       "'Иногда человек хочет сходить в ресторан. Он может себе это позволить, если у него до зарплаты осталось (balance) больше 5 тысяч рублей. Если же у него меньше 5 тысяч, но больше 2.5 тысяч рублей, он может сходить только в фастфуд. Если меньше, то придётся терпеть до зарплаты. Напишите программу, которая принимает на вход количество оставшихся денег в рублях и говорит, можно ли человеку пойти в ресторан (варианты ответа программы - \"Сегодня твой выбор - ресторан!\", \"Эх, только фастфуд.\" и \"Придётся потерпеть!\"). Для проверки используйте balance = 455'"
      ]
     },
     "execution_count": 25,
     "metadata": {},
     "output_type": "execute_result"
    }
   ],
   "source": [
    "\"\"\"Иногда человек хочет сходить в ресторан. Он может себе это позволить, если у него до зарплаты осталось (balance) больше 5 тысяч рублей. Если же у него меньше 5 тысяч, но больше 2.5 тысяч рублей, он может сходить только в фастфуд. Если меньше, то придётся терпеть до зарплаты. Напишите программу, которая принимает на вход количество оставшихся денег в рублях и говорит, можно ли человеку пойти в ресторан (варианты ответа программы - \"Сегодня твой выбор - ресторан!\", \"Эх, только фастфуд.\" и \"Придётся потерпеть!\"). Для проверки используйте balance = 455\"\"\""
   ]
  },
  {
   "cell_type": "code",
   "execution_count": 28,
   "metadata": {},
   "outputs": [
    {
     "name": "stdout",
     "output_type": "stream",
     "text": [
      "2500\n",
      "Придётся потерпеть!\n"
     ]
    }
   ],
   "source": [
    "balance = float(input())\n",
    "#balance = 455\n",
    "if balance > 5000:\n",
    "    print(\"Сегодня твой выбор - ресторан!\")\n",
    "elif balance >2500:\n",
    "    print (\"Эх, только фастфуд.\")\n",
    "else:\n",
    "    print (\"Придётся потерпеть!\")\n"
   ]
  },
  {
   "cell_type": "code",
   "execution_count": 30,
   "metadata": {},
   "outputs": [
    {
     "data": {
      "text/plain": [
       "True"
      ]
     },
     "execution_count": 30,
     "metadata": {},
     "output_type": "execute_result"
    }
   ],
   "source": [
    "\"239\" <\"30\""
   ]
  },
  {
   "cell_type": "code",
   "execution_count": 31,
   "metadata": {},
   "outputs": [
    {
     "data": {
      "text/plain": [
       "False"
      ]
     },
     "execution_count": 31,
     "metadata": {},
     "output_type": "execute_result"
    }
   ],
   "source": [
    "239<30"
   ]
  },
  {
   "cell_type": "code",
   "execution_count": 32,
   "metadata": {},
   "outputs": [
    {
     "name": "stdout",
     "output_type": "stream",
     "text": [
      "0 П\n",
      "1 р\n",
      "2 и\n",
      "3 в\n",
      "4 е\n",
      "5 т\n",
      "6 !\n"
     ]
    }
   ],
   "source": [
    "for i, letter in enumerate('Привет!'):\n",
    "    #Здесь i - номер итерации, а letter - символ номер i из строки 'Привет!'\n",
    "    print(i, letter)"
   ]
  },
  {
   "cell_type": "code",
   "execution_count": 33,
   "metadata": {},
   "outputs": [
    {
     "name": "stdout",
     "output_type": "stream",
     "text": [
      "п\n",
      "о\n",
      "д\n",
      "ш\n",
      "и\n",
      "п\n",
      "н\n",
      "и\n",
      "к\n"
     ]
    }
   ],
   "source": [
    "word = 'подшипник'\n",
    "for i in word:\n",
    "    print(i)"
   ]
  },
  {
   "cell_type": "code",
   "execution_count": 36,
   "metadata": {},
   "outputs": [
    {
     "name": "stdout",
     "output_type": "stream",
     "text": [
      "пдинк"
     ]
    }
   ],
   "source": [
    "word = 'подшипник'\n",
    "for i,letter in enumerate(word):\n",
    "    if i %2==0:\n",
    "        print(letter, end=\"\")"
   ]
  },
  {
   "cell_type": "code",
   "execution_count": 37,
   "metadata": {},
   "outputs": [
    {
     "name": "stdout",
     "output_type": "stream",
     "text": [
      "2013  год невисокосный\n",
      "2014  год невисокосный\n",
      "2015  год невисокосный\n",
      "2016  год високосный\n",
      "2017  год невисокосный\n",
      "2018  год невисокосный\n",
      "2019  год невисокосный\n",
      "2020  год високосный\n"
     ]
    }
   ],
   "source": [
    "year_1 = 2013\n",
    "year_2 = 2020\n",
    "for year in range(year_1, year_2+1):\n",
    "    if year % 4 == 0:\n",
    "        print(year, \" год високосный\")\n",
    "    else:\n",
    "        print(year, \" год невисокосный\")"
   ]
  },
  {
   "cell_type": "code",
   "execution_count": 2,
   "metadata": {},
   "outputs": [
    {
     "name": "stdout",
     "output_type": "stream",
     "text": [
      "2013 год невисокосный\n",
      "2014 год невисокосный\n",
      "2015 год невисокосный\n",
      "2016 год високосный\n",
      "2017 год невисокосный\n",
      "2018 год невисокосный\n",
      "2019 год невисокосный\n",
      "2020 год високосный\n"
     ]
    }
   ],
   "source": [
    "year_1 = 2013\n",
    "year_2 = 2020\n",
    "for year in range(year_1, year_2+1):\n",
    "    if year % 4 == 0:\n",
    "        print(year, \"год високосный\")\n",
    "    else:\n",
    "        print(year, \"год невисокосный\")"
   ]
  },
  {
   "cell_type": "code",
   "execution_count": 6,
   "metadata": {},
   "outputs": [
    {
     "name": "stdout",
     "output_type": "stream",
     "text": [
      "и\n",
      "у\n",
      "а\n",
      "и\n",
      "а\n"
     ]
    }
   ],
   "source": [
    "word = 'Зимушка-зима'\n",
    "for letter in word:\n",
    "    #print(letter)\n",
    "    if letter in \"аоиеёэыуюя\":\n",
    "        print(letter)"
   ]
  },
  {
   "cell_type": "code",
   "execution_count": 7,
   "metadata": {},
   "outputs": [
    {
     "name": "stdout",
     "output_type": "stream",
     "text": [
      "1 1 1\n",
      "2 4 8\n",
      "3 9 27\n",
      "4 16 64\n",
      "5 25 125\n",
      "6 36 216\n",
      "7 49 343\n",
      "8 64 512\n",
      "9 81 729\n",
      "10 100 1000\n"
     ]
    }
   ],
   "source": [
    "for i in range(1,11):\n",
    "    print(i,i**2,i**3)"
   ]
  },
  {
   "cell_type": "code",
   "execution_count": 9,
   "metadata": {},
   "outputs": [],
   "source": [
    "num_1 = 12\n",
    "num_2 = 38\n",
    "for num in range (num_1,num_2+1):\n",
    "    if num % num_1 == 0 and num % num_2 == 0:\n",
    "        print(num)"
   ]
  },
  {
   "cell_type": "code",
   "execution_count": 10,
   "metadata": {},
   "outputs": [],
   "source": [
    "num_1 = 12\n",
    "num_2 = 38\n",
    "for num in range (num_1,num_2+1):\n",
    "    if num_1 % num == 0 and num_2 % num == 0:\n",
    "        print(num)"
   ]
  },
  {
   "cell_type": "code",
   "execution_count": null,
   "metadata": {},
   "outputs": [],
   "source": []
  }
 ],
 "metadata": {
  "kernelspec": {
   "display_name": "Python 3",
   "language": "python",
   "name": "python3"
  },
  "language_info": {
   "codemirror_mode": {
    "name": "ipython",
    "version": 3
   },
   "file_extension": ".py",
   "mimetype": "text/x-python",
   "name": "python",
   "nbconvert_exporter": "python",
   "pygments_lexer": "ipython3",
   "version": "3.7.6"
  }
 },
 "nbformat": 4,
 "nbformat_minor": 4
}
