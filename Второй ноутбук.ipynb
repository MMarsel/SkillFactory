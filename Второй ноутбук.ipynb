{
 "cells": [
  {
   "cell_type": "code",
   "execution_count": 5,
   "metadata": {},
   "outputs": [
    {
     "name": "stdout",
     "output_type": "stream",
     "text": [
      "55\n"
     ]
    }
   ],
   "source": [
    "a_1=1\n",
    "a_2=1\n",
    "#c=a+b\n",
    "n=10\n",
    "for _ in range(3,n+1):\n",
    "    a_new =a_1+a_2\n",
    "   \n",
    "    a_2=a_1\n",
    "    a_1=a_new\n",
    "print(a_new)"
   ]
  },
  {
   "cell_type": "code",
   "execution_count": 6,
   "metadata": {},
   "outputs": [
    {
     "data": {
      "text/plain": [
       "'\\n\\nНапишите программу, которая ищет наибольший (не равный 1) общий делитель двух чисел, введённых пользователем (num_1, num_2), и выводит его на экран. Если общих делителей нет, выводит на экран \"Общих делителей не найдено\".\\n\\nДля проверки используйте num_1 = 1812, num_2 = 2500\\n\\nPS: Если использовать break в цикле for - else, то при прерывании цикла код после else выполняться не будет.\\n'"
      ]
     },
     "execution_count": 6,
     "metadata": {},
     "output_type": "execute_result"
    }
   ],
   "source": [
    "\"\"\"\n",
    "\n",
    "Напишите программу, которая ищет наибольший (не равный 1) общий делитель двух чисел, введённых пользователем (num_1, num_2), и выводит его на экран. Если общих делителей нет, выводит на экран \"Общих делителей не найдено\".\n",
    "\n",
    "Для проверки используйте num_1 = 1812, num_2 = 2500\n",
    "\n",
    "PS: Если использовать break в цикле for - else, то при прерывании цикла код после else выполняться не будет.\n",
    "\"\"\""
   ]
  },
  {
   "cell_type": "code",
   "execution_count": 11,
   "metadata": {},
   "outputs": [
    {
     "name": "stdout",
     "output_type": "stream",
     "text": [
      "2\n"
     ]
    }
   ],
   "source": [
    "#num_1 = int(input())\n",
    "#num_2 = int(input())\n",
    "num_1 = 1812\n",
    "num_2 = 2500\n",
    "maximum = 0\n",
    "for num in range(2,int(max(num_1,num_2)/2)+1):\n",
    "    if num_1 % num ==0 and num_2 % num == 0:\n",
    "        maximum = num\n",
    "if maximum == 0 :\n",
    "    print (\"Общих делителей не найдено\")\n",
    "else:\n",
    "    print(maximum)\n",
    "    "
   ]
  },
  {
   "cell_type": "code",
   "execution_count": 7,
   "metadata": {},
   "outputs": [
    {
     "data": {
      "text/plain": [
       "50.0"
      ]
     },
     "execution_count": 7,
     "metadata": {},
     "output_type": "execute_result"
    }
   ],
   "source": [
    "2500**0.5"
   ]
  },
  {
   "cell_type": "code",
   "execution_count": 12,
   "metadata": {},
   "outputs": [
    {
     "data": {
      "text/plain": [
       "'\\n\\nНапишите программу с использованием оператора continue, которая принимает на вход строку (string), после чего выводит её посимвольно, но без букв а, б, в. Пример: ввод \"арбуз\", вывод \"руз\".\\n\\nДля проверки используйте string = \\'абстракция\\'\\n\\nPS: Чтобы выводить побуквенно в одну строчку, в фукнции print() предусмотрен параметр end. Если написать print(\\'Hello!\\', end=\\'\\'), следующий print() продолжит вывод не с новой строки.\\n'"
      ]
     },
     "execution_count": 12,
     "metadata": {},
     "output_type": "execute_result"
    }
   ],
   "source": [
    "\"\"\"\n",
    "\n",
    "Напишите программу с использованием оператора continue, которая принимает на вход строку (string), после чего выводит её посимвольно, но без букв а, б, в. Пример: ввод \"арбуз\", вывод \"руз\".\n",
    "\n",
    "Для проверки используйте string = 'абстракция'\n",
    "\n",
    "PS: Чтобы выводить побуквенно в одну строчку, в фукнции print() предусмотрен параметр end. Если написать print('Hello!', end=''), следующий print() продолжит вывод не с новой строки.\n",
    "\"\"\""
   ]
  },
  {
   "cell_type": "code",
   "execution_count": 13,
   "metadata": {},
   "outputs": [
    {
     "name": "stdout",
     "output_type": "stream",
     "text": [
      "стркция"
     ]
    }
   ],
   "source": [
    "#string = input()\n",
    "string = 'абстракция'\n",
    "for letter in string:\n",
    "    if letter == \"а\" or letter == \"б\" or letter == \"в\":\n",
    "        continue\n",
    "    print(letter, end=\"\")\n",
    "    "
   ]
  },
  {
   "cell_type": "code",
   "execution_count": 15,
   "metadata": {},
   "outputs": [
    {
     "name": "stdout",
     "output_type": "stream",
     "text": [
      "Это отлично!\n",
      "Это безнадёжно!\n"
     ]
    }
   ],
   "source": [
    "string = 'Да'\n",
    "for i in range(5):\n",
    "    if string == \"Да\":\n",
    "        print(\"Это отлично!\")\n",
    "        break\n",
    "    else:\n",
    "        print(\"Увы, это неправильный ответ\")\n",
    "        continue\n",
    "print(\"Это безнадёжно!\")\n"
   ]
  },
  {
   "cell_type": "code",
   "execution_count": 18,
   "metadata": {},
   "outputs": [
    {
     "data": {
      "text/plain": [
       "'Напишите программу, которая проверяет, является ли введённое число (number) простым. Если число простое, то программа выводит \"Простое\", иначе \"Не является простым\".Для проверки используйте number = 173'"
      ]
     },
     "execution_count": 18,
     "metadata": {},
     "output_type": "execute_result"
    }
   ],
   "source": [
    "\"\"\"Напишите программу, которая проверяет, является ли введённое число (number) простым. Если число простое, то программа выводит \"Простое\", иначе \"Не является простым\".Для проверки используйте number = 173\"\"\""
   ]
  },
  {
   "cell_type": "code",
   "execution_count": 20,
   "metadata": {},
   "outputs": [
    {
     "name": "stdout",
     "output_type": "stream",
     "text": [
      "Не является простым\n",
      "Простое\n"
     ]
    }
   ],
   "source": [
    "number = 174\n",
    "for delitel in range(2,int(number**0.5+1)):\n",
    "    if number % delitel == 0:\n",
    "        print(\"Не является простым\")\n",
    "        break \n",
    "print (\"Простое\")\n"
   ]
  },
  {
   "cell_type": "code",
   "execution_count": 21,
   "metadata": {},
   "outputs": [
    {
     "data": {
      "text/plain": [
       "0"
      ]
     },
     "execution_count": 21,
     "metadata": {},
     "output_type": "execute_result"
    }
   ],
   "source": [
    "0%2"
   ]
  },
  {
   "cell_type": "code",
   "execution_count": 23,
   "metadata": {},
   "outputs": [
    {
     "data": {
      "text/plain": [
       "0"
      ]
     },
     "execution_count": 23,
     "metadata": {},
     "output_type": "execute_result"
    }
   ],
   "source": [
    "2%2"
   ]
  },
  {
   "cell_type": "code",
   "execution_count": 25,
   "metadata": {},
   "outputs": [
    {
     "name": "stdout",
     "output_type": "stream",
     "text": [
      "Какая хорошая строка!\n",
      "Какая хорошая строка!\n",
      "Строка мне не нравится!\n"
     ]
    }
   ],
   "source": [
    "string = 'прелестная строка'\n",
    "i=0\n",
    "for letter in string:\n",
    "    if letter in \"аоуыияеёэю\" and i % 2 == 0:\n",
    "        print(\"Строка мне не нравится!\")\n",
    "        break\n",
    "    print (\"Какая хорошая строка!\")\n",
    "    "
   ]
  },
  {
   "cell_type": "code",
   "execution_count": 26,
   "metadata": {},
   "outputs": [],
   "source": [
    "weight = 77\n",
    "if weight > 400:\n",
    "    print(\"Перевес\",weight-400,\"кг\")"
   ]
  },
  {
   "cell_type": "code",
   "execution_count": 29,
   "metadata": {},
   "outputs": [
    {
     "name": "stdout",
     "output_type": "stream",
     "text": [
      "7\n"
     ]
    }
   ],
   "source": [
    "attack = 80\n",
    "current_health=500\n",
    "t=0\n",
    "while current_health>0:\n",
    "    current_health=current_health-attack\n",
    "    t+=1\n",
    "print(t)"
   ]
  },
  {
   "cell_type": "code",
   "execution_count": 32,
   "metadata": {},
   "outputs": [
    {
     "name": "stdout",
     "output_type": "stream",
     "text": [
      "10000\n",
      "7200\n",
      "4400\n",
      "1600\n",
      "Слишком большие расходы\n"
     ]
    }
   ],
   "source": [
    "spent = 2800\n",
    "balance = 10000\n",
    "print(balance)\n",
    "while balance >= 0:\n",
    "    balance=balance-spent\n",
    "    if balance < 0:\n",
    "        break\n",
    "    print(balance)\n",
    "print(\"Слишком большие расходы\")"
   ]
  },
  {
   "cell_type": "code",
   "execution_count": 33,
   "metadata": {},
   "outputs": [
    {
     "name": "stdout",
     "output_type": "stream",
     "text": [
      "20\n"
     ]
    }
   ],
   "source": [
    "volume=1000\n",
    "dobavka=5\n",
    "t=0\n",
    "while volume >= 0:\n",
    "    volume=volume-dobavka\n",
    "    dobavka+=5\n",
    "    t+=1\n",
    "print(t)\n",
    "    "
   ]
  },
  {
   "cell_type": "code",
   "execution_count": 1,
   "metadata": {},
   "outputs": [
    {
     "name": "stdout",
     "output_type": "stream",
     "text": [
      "Строка мне не нравится!\n",
      "Какая хорошая строка!\n"
     ]
    }
   ],
   "source": [
    "string = 'прелестная строка'\n",
    "i=0\n",
    "for letter in string:\n",
    "    if letter in \"аоуыияеёэю\" and i % 2 == 0:\n",
    "        print(\"Строка мне не нравится!\")\n",
    "        break\n",
    "print (\"Какая хорошая строка!\")"
   ]
  },
  {
   "cell_type": "code",
   "execution_count": 12,
   "metadata": {},
   "outputs": [
    {
     "name": "stdout",
     "output_type": "stream",
     "text": [
      "Строка мне не нравится!\n"
     ]
    }
   ],
   "source": [
    "string = 'прелестная строка'\n",
    "i=0\n",
    "len(string)\n",
    "for letter in string:\n",
    "   \n",
    "    if letter in \"аоуыияеёэю\" and i % 2 == 0:\n",
    "        print(\"Строка мне не нравится!\")\n",
    "        break\n",
    "    i+=1\n",
    "    if len(string)<i:\n",
    "        print(\"Какая хорошая строка!\")\n",
    "        \n",
    "\n",
    "        \n",
    "        \n",
    "    "
   ]
  },
  {
   "cell_type": "code",
   "execution_count": 1,
   "metadata": {},
   "outputs": [],
   "source": [
    "body = ['голова', 'руки', 'ноги', 'глаза', 'уши', 'рот', 'нос', 'туловище']"
   ]
  },
  {
   "cell_type": "code",
   "execution_count": 2,
   "metadata": {},
   "outputs": [
    {
     "data": {
      "text/plain": [
       "['голова', 'руки', 'ноги', 'глаза', 'уши', 'рот', 'нос', 'туловище']"
      ]
     },
     "execution_count": 2,
     "metadata": {},
     "output_type": "execute_result"
    }
   ],
   "source": [
    "body\n"
   ]
  },
  {
   "cell_type": "code",
   "execution_count": 3,
   "metadata": {},
   "outputs": [
    {
     "data": {
      "text/plain": [
       "['голова', 'руки', 'ноги', 'глаза', 'уши', 'рот', 'нос', 'туловище']"
      ]
     },
     "execution_count": 3,
     "metadata": {},
     "output_type": "execute_result"
    }
   ],
   "source": [
    "body"
   ]
  },
  {
   "cell_type": "code",
   "execution_count": 4,
   "metadata": {},
   "outputs": [
    {
     "data": {
      "text/plain": [
       "['голова', 'руки', 'ноги', 'глаза', 'уши', 'рот', 'нос', 'туловище']"
      ]
     },
     "execution_count": 4,
     "metadata": {},
     "output_type": "execute_result"
    }
   ],
   "source": [
    "body[:]"
   ]
  },
  {
   "cell_type": "code",
   "execution_count": 7,
   "metadata": {},
   "outputs": [
    {
     "data": {
      "text/plain": [
       "['руки', 'ноги', 'глаза', 'уши', 'рот', 'нос', 'туловище']"
      ]
     },
     "execution_count": 7,
     "metadata": {},
     "output_type": "execute_result"
    }
   ],
   "source": [
    "body[1:8]"
   ]
  },
  {
   "cell_type": "code",
   "execution_count": null,
   "metadata": {},
   "outputs": [],
   "source": []
  }
 ],
 "metadata": {
  "kernelspec": {
   "display_name": "Python 3",
   "language": "python",
   "name": "python3"
  },
  "language_info": {
   "codemirror_mode": {
    "name": "ipython",
    "version": 3
   },
   "file_extension": ".py",
   "mimetype": "text/x-python",
   "name": "python",
   "nbconvert_exporter": "python",
   "pygments_lexer": "ipython3",
   "version": "3.7.6"
  }
 },
 "nbformat": 4,
 "nbformat_minor": 4
}
